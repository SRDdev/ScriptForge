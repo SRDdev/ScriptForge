{
 "cells": [
  {
   "attachments": {},
   "cell_type": "markdown",
   "metadata": {},
   "source": [
    "# 🤗 ScriptGPT\n",
    "Welcome to ScriptGPT , this notebook contains detailed guide on how to use ScriptGPT models.\n",
    "\n",
    "| Model Name         | Description                                        | Size   | Links                                                    |\n",
    "|--------------------|----------------------------------------------------|--------|----------------------------------------------------------|\n",
    "| Script_GPT         | Model for Generating Technical Content             | 100M   | [Link](https://huggingface.co/SRDdev/Script_GPT)         |\n",
    "| ScriptGPT-small    | Generalized model for Video script generation      | 124M   | [Link](https://huggingface.co/SRDdev/ScriptGPT-small)    |\n",
    "| ScriptGPT-medium   | Generalized model for Video script generation      | 200M   | [Link](https://huggingface.co/SRDdev/ScriptGPT-medium)   |"
   ]
  },
  {
   "attachments": {},
   "cell_type": "markdown",
   "metadata": {},
   "source": [
    "### 🛠️ Requirements"
   ]
  },
  {
   "cell_type": "code",
   "execution_count": null,
   "metadata": {
    "vscode": {
     "languageId": "plaintext"
    }
   },
   "outputs": [],
   "source": [
    "! pip install transformers"
   ]
  },
  {
   "attachments": {},
   "cell_type": "markdown",
   "metadata": {},
   "source": [
    "### Script_GPT\n",
    "\n",
    "ScriptGPT is a language model trained on a dataset of 5,000 YouTube videos that explain artificial intelligence concepts.\n",
    "\n",
    "``` AI content script generation (technical)```"
   ]
  },
  {
   "cell_type": "code",
   "execution_count": null,
   "metadata": {
    "vscode": {
     "languageId": "plaintext"
    }
   },
   "outputs": [],
   "source": [
    "#--------------------------Load Model--------------------------#\n",
    "from transformers import AutoTokenizer, AutoModelForCausalLM\n",
    "\n",
    "tokenizer = AutoTokenizer.from_pretrained(\"SRDdev/Script_GPT\")\n",
    "model = AutoModelForCausalLM.from_pretrained(\"SRDdev/Script_GPT\")"
   ]
  },
  {
   "cell_type": "code",
   "execution_count": null,
   "metadata": {
    "vscode": {
     "languageId": "plaintext"
    }
   },
   "outputs": [],
   "source": [
    "#--------------------------Build Pipeline--------------------------#\n",
    "from transformers import pipeline\n",
    "generator = pipeline('text-generation', model= model , tokenizer=tokenizer)\n",
    "\n",
    "#--------------------------Call--------------------------#\n",
    "context = \"Introduction to Vertex AI Feature Store\"\n",
    "length_to_generate = 200 \n",
    "\n",
    "script = generator(context, max_length=length_to_generate, do_sample=True)[0]['generated_text']\n",
    "script"
   ]
  },
  {
   "attachments": {},
   "cell_type": "markdown",
   "metadata": {},
   "source": [
    "### Script_GPT-small\n",
    "\n",
    "ScriptGPT-small is a language model trained on a dataset of 50 YouTube videos that cover different domains of Youtube videos. ScriptGPT-small is a Causal language transformer.\n",
    "\n",
    "```Generalized script generation```"
   ]
  },
  {
   "cell_type": "code",
   "execution_count": null,
   "metadata": {
    "vscode": {
     "languageId": "plaintext"
    }
   },
   "outputs": [],
   "source": [
    "#--------------------------Load Model--------------------------#\n",
    "from transformers import AutoTokenizer, AutoModelForCausalLM\n",
    "\n",
    "tokenizer = AutoTokenizer.from_pretrained(\"SRDdev/ScriptGPT-small\")\n",
    "model = AutoModelForCausalLM.from_pretrained(\"SRDdev/ScriptGPT-small\")\n"
   ]
  },
  {
   "cell_type": "code",
   "execution_count": null,
   "metadata": {
    "vscode": {
     "languageId": "plaintext"
    }
   },
   "outputs": [],
   "source": [
    "#--------------------------Build Pipeline--------------------------#\n",
    "from transformers import pipeline\n",
    "generator = pipeline('text-generation', model= model , tokenizer=tokenizer)\n",
    "\n",
    "#--------------------------Call--------------------------#\n",
    "context = \"Cooking red sauce pasta\"\n",
    "length_to_generate = 250 \n",
    "\n",
    "script = generator(context, max_length=length_to_generate, do_sample=True)[0]['generated_text']\n",
    "script"
   ]
  },
  {
   "attachments": {},
   "cell_type": "markdown",
   "metadata": {},
   "source": [
    "### ScriptGPT-medium\n",
    "\n",
    "ScriptGPT-medium is a language model trained on a dataset of 250 YouTube videos that cover different domains of Youtube videos.\n",
    "\n",
    "```Better generalized generation than ScriptGPT-small```"
   ]
  },
  {
   "cell_type": "code",
   "execution_count": null,
   "metadata": {
    "vscode": {
     "languageId": "plaintext"
    }
   },
   "outputs": [],
   "source": [
    "#--------------------------Load Model--------------------------#\n",
    "from transformers import AutoTokenizer, AutoModelForCausalLM\n",
    "\n",
    "tokenizer = AutoTokenizer.from_pretrained(\"SRDdev/ScriptGPT-small\")\n",
    "model = AutoModelForCausalLM.from_pretrained(\"SRDdev/ScriptGPT-small\")"
   ]
  },
  {
   "cell_type": "code",
   "execution_count": null,
   "metadata": {
    "vscode": {
     "languageId": "plaintext"
    }
   },
   "outputs": [],
   "source": [
    "#--------------------------Build Pipeline--------------------------#\n",
    "from transformers import pipeline\n",
    "generator = pipeline('text-generation', model= model , tokenizer=tokenizer)\n",
    "\n",
    "#--------------------------Call--------------------------#\n",
    "context = \"Meditation for beginners\"\n",
    "length_to_generate = 100 \n",
    "\n",
    "script = generator(context, max_length=length_to_generate, do_sample=True)[0]['generated_text']\n",
    "script"
   ]
  }
 ],
 "metadata": {
  "language_info": {
   "name": "python"
  },
  "orig_nbformat": 4
 },
 "nbformat": 4,
 "nbformat_minor": 2
}
